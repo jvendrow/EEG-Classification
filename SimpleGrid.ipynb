{
 "cells": [
  {
   "cell_type": "code",
   "execution_count": 1,
   "metadata": {},
   "outputs": [
    {
     "name": "stderr",
     "output_type": "stream",
     "text": [
      "Using TensorFlow backend.\n"
     ]
    }
   ],
   "source": [
    "from model import *\n",
    "from utils import *\n",
    "from gen_img import gen_imgs\n",
    "import datetime"
   ]
  },
  {
   "cell_type": "code",
   "execution_count": 2,
   "metadata": {},
   "outputs": [
    {
     "name": "stdout",
     "output_type": "stream",
     "text": [
      "Loading data pickle...\n",
      "Data pickle loaded.\n",
      "(11844, 6, 7, 100, 1)\n",
      "(2961, 6, 7, 100, 1)\n",
      "(3101, 6, 7, 100, 1)\n",
      "(11844, 4)\n",
      "(2961, 4)\n",
      "(3101, 4)\n"
     ]
    }
   ],
   "source": [
    "# Create result folders \n",
    "save_path = join(get_save_path(), 'SimpleGrid')\n",
    "new_path = join(save_path, 'best_val')\n",
    "time = str(datetime.datetime.now()).replace(' ', '_')\n",
    "workpath = join(save_path, time)\n",
    "ensure_dir(new_path)\n",
    "ensure_dir(workpath)\n",
    "ensure_dir(save_path)\n",
    "\n",
    "\n",
    "imgs = gen_imgs('nofourier')\n",
    "X_train = imgs['X_train_imgs']\n",
    "X_val = imgs['X_valid_imgs']\n",
    "X_test = imgs['X_test_imgs']\n",
    "y_train = imgs['y_train']\n",
    "y_val = imgs['y_val']\n",
    "y_test = imgs['y_test']\n",
    "\n",
    "X_train = X_train.reshape((X_train.shape[0],\n",
    "                           X_train.shape[1],\n",
    "                           X_train.shape[2],\n",
    "                           X_train.shape[3],\n",
    "                           1))\n",
    "X_val = X_val.reshape((X_val.shape[0],\n",
    "                       X_val.shape[1],\n",
    "                       X_val.shape[2],\n",
    "                       X_val.shape[3],\n",
    "                       1))\n",
    "X_test = X_test.reshape((X_test.shape[0],\n",
    "                         X_test.shape[1],\n",
    "                         X_test.shape[2],\n",
    "                         X_test.shape[3],\n",
    "                         1))\n",
    "print(X_train.shape)\n",
    "print(X_val.shape)\n",
    "print(X_test.shape)\n",
    "print(y_train.shape)\n",
    "print(y_val.shape)\n",
    "print(y_test.shape)\n"
   ]
  },
  {
   "cell_type": "code",
   "execution_count": 3,
   "metadata": {},
   "outputs": [],
   "source": [
    "config = {\n",
    "    # Network\n",
    "    'num_inputs': X_train.shape[0],\n",
    "    'input_shape': (X_train.shape[0], X_train.shape[1],X_train.shape[2],X_train.shape[3]),\n",
    "    'epochs': 50,\n",
    "    'dropout': 0.5,\n",
    "    'batch_size': 320,\n",
    "    'l2': 0.05,\n",
    "    'lr': 0.001\n",
    "}"
   ]
  },
  {
   "cell_type": "code",
   "execution_count": 4,
   "metadata": {
    "scrolled": false
   },
   "outputs": [
    {
     "name": "stdout",
     "output_type": "stream",
     "text": [
      "Model: \"sequential_1\"\n",
      "_________________________________________________________________\n",
      "Layer (type)                 Output Shape              Param #   \n",
      "=================================================================\n",
      "conv3d_1 (Conv3D)            (None, 4, 6, 49, 32)      800       \n",
      "_________________________________________________________________\n",
      "batch_normalization_1 (Batch (None, 4, 6, 49, 32)      24        \n",
      "_________________________________________________________________\n",
      "max_pooling3d_1 (MaxPooling3 (None, 2, 3, 49, 32)      0         \n",
      "_________________________________________________________________\n",
      "conv3d_2 (Conv3D)            (None, 2, 3, 49, 1)       33        \n",
      "_________________________________________________________________\n",
      "reshape_1 (Reshape)          (None, 6, 49)             0         \n",
      "_________________________________________________________________\n",
      "gru_1 (GRU)                  (None, 20)                4200      \n",
      "_________________________________________________________________\n",
      "dense_1 (Dense)              (None, 32)                672       \n",
      "_________________________________________________________________\n",
      "dropout_1 (Dropout)          (None, 32)                0         \n",
      "_________________________________________________________________\n",
      "dense_2 (Dense)              (None, 4)                 132       \n",
      "=================================================================\n",
      "Total params: 5,861\n",
      "Trainable params: 5,849\n",
      "Non-trainable params: 12\n",
      "_________________________________________________________________\n",
      "Model compiled.\n",
      "Train on 11844 samples, validate on 2961 samples\n",
      "Epoch 1/50\n",
      "11844/11844 [==============================] - 31s 3ms/step - loss: 1.3823 - accuracy: 0.2793 - val_loss: 1.3733 - val_accuracy: 0.3202\n",
      "Epoch 2/50\n",
      "11844/11844 [==============================] - 31s 3ms/step - loss: 1.3640 - accuracy: 0.3240 - val_loss: 1.3630 - val_accuracy: 0.3310\n",
      "Epoch 3/50\n",
      "11844/11844 [==============================] - 31s 3ms/step - loss: 1.3406 - accuracy: 0.3593 - val_loss: 1.3564 - val_accuracy: 0.3306\n",
      "Epoch 4/50\n",
      "11844/11844 [==============================] - 30s 3ms/step - loss: 1.3281 - accuracy: 0.3739 - val_loss: 1.3546 - val_accuracy: 0.3350\n",
      "Epoch 5/50\n",
      "11844/11844 [==============================] - 31s 3ms/step - loss: 1.3137 - accuracy: 0.3938 - val_loss: 1.3571 - val_accuracy: 0.3252\n",
      "Epoch 6/50\n",
      "11844/11844 [==============================] - 31s 3ms/step - loss: 1.2991 - accuracy: 0.4151 - val_loss: 1.3528 - val_accuracy: 0.3343\n",
      "Epoch 7/50\n",
      "11844/11844 [==============================] - 30s 3ms/step - loss: 1.2850 - accuracy: 0.4311 - val_loss: 1.3538 - val_accuracy: 0.3401\n",
      "Epoch 8/50\n",
      "11844/11844 [==============================] - 31s 3ms/step - loss: 1.2755 - accuracy: 0.4489 - val_loss: 1.3492 - val_accuracy: 0.3522\n",
      "Epoch 9/50\n",
      "11844/11844 [==============================] - 30s 3ms/step - loss: 1.2546 - accuracy: 0.4724 - val_loss: 1.3503 - val_accuracy: 0.3563\n",
      "Epoch 10/50\n",
      "11844/11844 [==============================] - 31s 3ms/step - loss: 1.2416 - accuracy: 0.4884 - val_loss: 1.3455 - val_accuracy: 0.3620\n",
      "Epoch 11/50\n",
      "11844/11844 [==============================] - 31s 3ms/step - loss: 1.2276 - accuracy: 0.5051 - val_loss: 1.3487 - val_accuracy: 0.3576\n",
      "Epoch 12/50\n",
      "11844/11844 [==============================] - 31s 3ms/step - loss: 1.2136 - accuracy: 0.5210 - val_loss: 1.3526 - val_accuracy: 0.3556\n",
      "Epoch 13/50\n",
      "11844/11844 [==============================] - 30s 3ms/step - loss: 1.2015 - accuracy: 0.5358 - val_loss: 1.3452 - val_accuracy: 0.3647\n",
      "Epoch 14/50\n",
      "11844/11844 [==============================] - 31s 3ms/step - loss: 1.1877 - accuracy: 0.5508 - val_loss: 1.3407 - val_accuracy: 0.3772\n",
      "Epoch 15/50\n",
      "11844/11844 [==============================] - 31s 3ms/step - loss: 1.1708 - accuracy: 0.5721 - val_loss: 1.3483 - val_accuracy: 0.3624\n",
      "Epoch 16/50\n",
      "11844/11844 [==============================] - 31s 3ms/step - loss: 1.1594 - accuracy: 0.5869 - val_loss: 1.3512 - val_accuracy: 0.3627\n",
      "Epoch 17/50\n",
      "11844/11844 [==============================] - 31s 3ms/step - loss: 1.1457 - accuracy: 0.5980 - val_loss: 1.3548 - val_accuracy: 0.3631\n",
      "Epoch 18/50\n",
      "11844/11844 [==============================] - 30s 3ms/step - loss: 1.1412 - accuracy: 0.6033 - val_loss: 1.3538 - val_accuracy: 0.3597\n",
      "Epoch 19/50\n",
      "11844/11844 [==============================] - 31s 3ms/step - loss: 1.1249 - accuracy: 0.6194 - val_loss: 1.3624 - val_accuracy: 0.3421\n",
      "Epoch 20/50\n",
      "11844/11844 [==============================] - 30s 3ms/step - loss: 1.1103 - accuracy: 0.6389 - val_loss: 1.3578 - val_accuracy: 0.3627\n",
      "Epoch 21/50\n",
      "11844/11844 [==============================] - 30s 3ms/step - loss: 1.1023 - accuracy: 0.6469 - val_loss: 1.3640 - val_accuracy: 0.3526\n",
      "Epoch 22/50\n",
      "11844/11844 [==============================] - 31s 3ms/step - loss: 1.0978 - accuracy: 0.6499 - val_loss: 1.3593 - val_accuracy: 0.3614\n",
      "Epoch 23/50\n",
      "11844/11844 [==============================] - 31s 3ms/step - loss: 1.0864 - accuracy: 0.6608 - val_loss: 1.3646 - val_accuracy: 0.3519\n",
      "Epoch 24/50\n",
      "11844/11844 [==============================] - 31s 3ms/step - loss: 1.0734 - accuracy: 0.6754 - val_loss: 1.3682 - val_accuracy: 0.3455\n",
      "Epoch 25/50\n",
      "11844/11844 [==============================] - 31s 3ms/step - loss: 1.0779 - accuracy: 0.6689 - val_loss: 1.3669 - val_accuracy: 0.3485\n",
      "Epoch 26/50\n",
      "11844/11844 [==============================] - 31s 3ms/step - loss: 1.0647 - accuracy: 0.6838 - val_loss: 1.3784 - val_accuracy: 0.3401\n",
      "Epoch 27/50\n",
      "11844/11844 [==============================] - 31s 3ms/step - loss: 1.0878 - accuracy: 0.6567 - val_loss: 1.3738 - val_accuracy: 0.3475\n",
      "Epoch 28/50\n",
      "11844/11844 [==============================] - 30s 3ms/step - loss: 1.0803 - accuracy: 0.6628 - val_loss: 1.3687 - val_accuracy: 0.3583\n",
      "Epoch 29/50\n",
      "11844/11844 [==============================] - 31s 3ms/step - loss: 1.0441 - accuracy: 0.7055 - val_loss: 1.3670 - val_accuracy: 0.3556\n",
      "Epoch 30/50\n",
      "11844/11844 [==============================] - 31s 3ms/step - loss: 1.0354 - accuracy: 0.7123 - val_loss: 1.3736 - val_accuracy: 0.3499\n",
      "Epoch 31/50\n",
      "11844/11844 [==============================] - 31s 3ms/step - loss: 1.0373 - accuracy: 0.7093 - val_loss: 1.3746 - val_accuracy: 0.3468\n",
      "Epoch 32/50\n",
      "11844/11844 [==============================] - 30s 3ms/step - loss: 1.0255 - accuracy: 0.7234 - val_loss: 1.3717 - val_accuracy: 0.3502\n",
      "Epoch 33/50\n",
      "11844/11844 [==============================] - 30s 3ms/step - loss: 1.0175 - accuracy: 0.7314 - val_loss: 1.3743 - val_accuracy: 0.3441\n",
      "Epoch 34/50\n",
      "11844/11844 [==============================] - 30s 3ms/step - loss: 1.0448 - accuracy: 0.7009 - val_loss: 1.3734 - val_accuracy: 0.3475\n",
      "Epoch 35/50\n",
      "11844/11844 [==============================] - 30s 3ms/step - loss: 1.0211 - accuracy: 0.7278 - val_loss: 1.3706 - val_accuracy: 0.3533\n",
      "Epoch 36/50\n",
      "11844/11844 [==============================] - 31s 3ms/step - loss: 1.0165 - accuracy: 0.7321 - val_loss: 1.3738 - val_accuracy: 0.3492\n",
      "Epoch 37/50\n",
      "11844/11844 [==============================] - 30s 3ms/step - loss: 1.0047 - accuracy: 0.7448 - val_loss: 1.3761 - val_accuracy: 0.3468\n",
      "Epoch 38/50\n",
      "11844/11844 [==============================] - 30s 3ms/step - loss: 1.0036 - accuracy: 0.7459 - val_loss: 1.3675 - val_accuracy: 0.3553\n",
      "Epoch 39/50\n",
      "11844/11844 [==============================] - 30s 3ms/step - loss: 0.9976 - accuracy: 0.7493 - val_loss: 1.3738 - val_accuracy: 0.3492\n",
      "Epoch 40/50\n",
      "11844/11844 [==============================] - 30s 3ms/step - loss: 0.9968 - accuracy: 0.7527 - val_loss: 1.3799 - val_accuracy: 0.3374\n",
      "Epoch 41/50\n",
      "11844/11844 [==============================] - 30s 3ms/step - loss: 0.9892 - accuracy: 0.7589 - val_loss: 1.3736 - val_accuracy: 0.3509\n",
      "Epoch 42/50\n",
      "11844/11844 [==============================] - 30s 3ms/step - loss: 0.9852 - accuracy: 0.7651 - val_loss: 1.3736 - val_accuracy: 0.3533\n",
      "Epoch 43/50\n",
      "11844/11844 [==============================] - 31s 3ms/step - loss: 0.9803 - accuracy: 0.7684 - val_loss: 1.3734 - val_accuracy: 0.3502\n",
      "Epoch 44/50\n",
      "11844/11844 [==============================] - 30s 3ms/step - loss: 1.0661 - accuracy: 0.6737 - val_loss: 1.3771 - val_accuracy: 0.3398\n",
      "Epoch 45/50\n"
     ]
    },
    {
     "name": "stdout",
     "output_type": "stream",
     "text": [
      "11844/11844 [==============================] - 31s 3ms/step - loss: 1.0250 - accuracy: 0.7194 - val_loss: 1.3777 - val_accuracy: 0.3441\n",
      "Epoch 46/50\n",
      "11844/11844 [==============================] - 31s 3ms/step - loss: 1.0034 - accuracy: 0.7414 - val_loss: 1.3698 - val_accuracy: 0.3576\n",
      "Epoch 47/50\n",
      "11844/11844 [==============================] - 31s 3ms/step - loss: 0.9809 - accuracy: 0.7658 - val_loss: 1.3689 - val_accuracy: 0.3560\n",
      "Epoch 48/50\n",
      "11844/11844 [==============================] - 31s 3ms/step - loss: 0.9750 - accuracy: 0.7707 - val_loss: 1.3697 - val_accuracy: 0.3549\n",
      "Epoch 49/50\n",
      "11844/11844 [==============================] - 31s 3ms/step - loss: 0.9753 - accuracy: 0.7719 - val_loss: 1.3718 - val_accuracy: 0.3526\n",
      "Epoch 50/50\n",
      "11844/11844 [==============================] - 30s 3ms/step - loss: 0.9696 - accuracy: 0.7790 - val_loss: 1.3756 - val_accuracy: 0.3492\n"
     ]
    },
    {
     "data": {
      "text/plain": [
       "<keras.callbacks.callbacks.History at 0x7f58fc2e4588>"
      ]
     },
     "execution_count": 4,
     "metadata": {},
     "output_type": "execute_result"
    }
   ],
   "source": [
    "simplegridmodel = SimpleGridModel()\n",
    "simplegridmodel.build_model(config)\n",
    "simplegridmodel.train(X_train, y_train, X_val, y_val, config, save_dir=workpath)"
   ]
  },
  {
   "cell_type": "code",
   "execution_count": 7,
   "metadata": {},
   "outputs": [
    {
     "name": "stdout",
     "output_type": "stream",
     "text": [
      "3101/3101 [==============================] - 0s 156us/step\n",
      "Raw Acc result: 0.37568527460098267\n",
      "Majority Vote result: 0.3905191873589165\n"
     ]
    }
   ],
   "source": [
    "preds = [simplegridmodel.predict(X_test[i::443], 0) for i in range(443)]\n",
    "majority_pred = []\n",
    "for pred in preds:\n",
    "    arg_maxes = [np.argmax(p) for p in pred]\n",
    "    votes = np.bincount(arg_maxes)\n",
    "    out = np.ndarray(shape=(4,), buffer=np.zeros(4), dtype=int)\n",
    "    out[votes.argmax()] = 1\n",
    "    majority_pred.append(out)\n",
    "result = [(a == b).all() for a, b in zip(majority_pred, y_test[0:443])]\n",
    "raw = simplegridmodel.evaluate(X_test, y_test)\n",
    "print(\"Raw Acc result: {}\".format(raw[1]))\n",
    "print(\"Majority Vote result: {}\".format(np.mean(result)))\n",
    "# filepath = join(save_path, 'simplegridmodel.pickle')\n",
    "# replace_model_if_better(filepath, np.mean(result), simplegridmodel, config)"
   ]
  },
  {
   "cell_type": "code",
   "execution_count": null,
   "metadata": {},
   "outputs": [],
   "source": []
  }
 ],
 "metadata": {
  "kernelspec": {
   "display_name": "Python 3",
   "language": "python",
   "name": "python3"
  },
  "language_info": {
   "codemirror_mode": {
    "name": "ipython",
    "version": 3
   },
   "file_extension": ".py",
   "mimetype": "text/x-python",
   "name": "python",
   "nbconvert_exporter": "python",
   "pygments_lexer": "ipython3",
   "version": "3.7.1"
  }
 },
 "nbformat": 4,
 "nbformat_minor": 4
}
