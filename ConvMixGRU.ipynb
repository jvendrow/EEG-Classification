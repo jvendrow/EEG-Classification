{
 "cells": [
  {
   "cell_type": "code",
   "execution_count": 1,
   "metadata": {},
   "outputs": [
    {
     "name": "stderr",
     "output_type": "stream",
     "text": [
      "Using TensorFlow backend.\n"
     ]
    },
    {
     "name": "stdout",
     "output_type": "stream",
     "text": [
      "Loading data pickle...\n",
      "Data pickle loaded.\n",
      "(11844, 100, 22)\n",
      "(11844, 4)\n",
      "(3101, 100, 22)\n",
      "(3101, 4)\n",
      "(2961, 100, 22)\n",
      "(2961, 4)\n"
     ]
    }
   ],
   "source": [
    "import numpy as np\n",
    "from model import *\n",
    "import datetime\n",
    "from utils import *\n",
    "from preprocessing import *\n",
    "import random\n",
    "import glob\n",
    "from os.path import join, getctime, basename\n",
    "from load_data import load_data\n",
    "from save_model import replace_model_if_better\n",
    "from keras.models import load_model\n",
    "from shutil import rmtree\n",
    "\n",
    "## Loading Preprocessed Data\n",
    "\n",
    "# Create result folders \n",
    "save_path = join(get_save_path(), 'ConvMixGRU')\n",
    "new_path = join(save_path, 'best_val')\n",
    "time = str(datetime.datetime.now()).replace(' ', '_')\n",
    "workpath = join(save_path, time)\n",
    "ensure_dir(new_path)\n",
    "ensure_dir(workpath)\n",
    "ensure_dir(save_path)\n",
    "\n",
    "# Load preprocessed data\n",
    "aug_data = load_data_pickle(get_save_path())\n",
    "total_X_test = aug_data['total_X_test']\n",
    "total_y_test = aug_data['total_y_test']\n",
    "total_X_train = aug_data['total_X_train']\n",
    "total_y_train = aug_data['total_y_train']\n",
    "total_X_val = aug_data['total_X_val']\n",
    "total_y_val = aug_data['total_y_val']\n",
    "total_X_train = np.transpose(total_X_train, (0, 2, 1))\n",
    "total_X_val = np.transpose(total_X_val, (0, 2, 1))\n",
    "total_X_test = np.transpose(total_X_test, (0, 2, 1))\n",
    "print(total_X_train.shape)\n",
    "print(total_y_train.shape)\n",
    "print(total_X_test.shape)\n",
    "print(total_y_test.shape)\n",
    "print(total_X_val.shape)\n",
    "print(total_y_val.shape)"
   ]
  },
  {
   "cell_type": "code",
   "execution_count": 2,
   "metadata": {},
   "outputs": [],
   "source": [
    "config = {\n",
    "    # Network\n",
    "    'num_inputs': total_X_train.shape[0],\n",
    "    'input_shape': (total_X_train.shape[1],total_X_train.shape[2],1),\n",
    "    'epochs': 50,\n",
    "    'dropout': 0.5,\n",
    "    'batch_size': 640,\n",
    "    'l2': 0.03,\n",
    "    'LSTM': False,\n",
    "    'lr': 0.001\n",
    "}"
   ]
  },
  {
   "cell_type": "code",
   "execution_count": 3,
   "metadata": {},
   "outputs": [
    {
     "name": "stdout",
     "output_type": "stream",
     "text": [
      "Model: \"sequential_1\"\n",
      "_________________________________________________________________\n",
      "Layer (type)                 Output Shape              Param #   \n",
      "=================================================================\n",
      "conv1d_1 (Conv1D)            (None, 91, 22)            4862      \n",
      "_________________________________________________________________\n",
      "batch_normalization_1 (Batch (None, 91, 22)            364       \n",
      "_________________________________________________________________\n",
      "max_pooling1d_1 (MaxPooling1 (None, 45, 22)            0         \n",
      "_________________________________________________________________\n",
      "gru_1 (GRU)                  (None, 45, 44)            8844      \n",
      "_________________________________________________________________\n",
      "dropout_1 (Dropout)          (None, 45, 44)            0         \n",
      "_________________________________________________________________\n",
      "flatten_1 (Flatten)          (None, 1980)              0         \n",
      "_________________________________________________________________\n",
      "dense_1 (Dense)              (None, 64)                126784    \n",
      "_________________________________________________________________\n",
      "dropout_2 (Dropout)          (None, 64)                0         \n",
      "_________________________________________________________________\n",
      "dense_2 (Dense)              (None, 4)                 260       \n",
      "=================================================================\n",
      "Total params: 141,114\n",
      "Trainable params: 140,932\n",
      "Non-trainable params: 182\n",
      "_________________________________________________________________\n",
      "Model compiled.\n",
      "Train on 11844 samples, validate on 2961 samples\n",
      "Epoch 1/50\n",
      "11844/11844 [==============================] - 2s 138us/step - loss: 2.8546 - accuracy: 0.3596 - val_loss: 2.5837 - val_accuracy: 0.3830\n",
      "Epoch 2/50\n",
      "11844/11844 [==============================] - 1s 96us/step - loss: 2.3286 - accuracy: 0.4774 - val_loss: 2.1499 - val_accuracy: 0.4762\n",
      "Epoch 3/50\n",
      "11844/11844 [==============================] - 1s 97us/step - loss: 1.9525 - accuracy: 0.5641 - val_loss: 1.8674 - val_accuracy: 0.5073\n",
      "Epoch 4/50\n",
      "11844/11844 [==============================] - 1s 95us/step - loss: 1.7016 - accuracy: 0.6099 - val_loss: 1.6894 - val_accuracy: 0.5333\n",
      "Epoch 5/50\n",
      "11844/11844 [==============================] - 1s 95us/step - loss: 1.5289 - accuracy: 0.6425 - val_loss: 1.5565 - val_accuracy: 0.5387\n",
      "Epoch 6/50\n",
      "11844/11844 [==============================] - 1s 95us/step - loss: 1.4207 - accuracy: 0.6502 - val_loss: 1.4736 - val_accuracy: 0.5387\n",
      "Epoch 7/50\n",
      "11844/11844 [==============================] - 1s 96us/step - loss: 1.3278 - accuracy: 0.6776 - val_loss: 1.4060 - val_accuracy: 0.5599\n",
      "Epoch 8/50\n",
      "11844/11844 [==============================] - 1s 97us/step - loss: 1.2592 - accuracy: 0.6992 - val_loss: 1.3566 - val_accuracy: 0.5650\n",
      "Epoch 9/50\n",
      "11844/11844 [==============================] - 1s 96us/step - loss: 1.2118 - accuracy: 0.7076 - val_loss: 1.3073 - val_accuracy: 0.6008\n",
      "Epoch 10/50\n",
      "11844/11844 [==============================] - 1s 97us/step - loss: 1.1746 - accuracy: 0.7222 - val_loss: 1.2951 - val_accuracy: 0.5782\n",
      "Epoch 11/50\n",
      "11844/11844 [==============================] - 1s 99us/step - loss: 1.1469 - accuracy: 0.7332 - val_loss: 1.2664 - val_accuracy: 0.5883\n",
      "Epoch 12/50\n",
      "11844/11844 [==============================] - 1s 96us/step - loss: 1.1208 - accuracy: 0.7408 - val_loss: 1.2531 - val_accuracy: 0.5927\n",
      "Epoch 13/50\n",
      "11844/11844 [==============================] - 1s 96us/step - loss: 1.1101 - accuracy: 0.7373 - val_loss: 1.2334 - val_accuracy: 0.5893\n",
      "Epoch 14/50\n",
      "11844/11844 [==============================] - 1s 96us/step - loss: 1.0942 - accuracy: 0.7448 - val_loss: 1.2268 - val_accuracy: 0.5924\n",
      "Epoch 15/50\n",
      "11844/11844 [==============================] - 1s 98us/step - loss: 1.0832 - accuracy: 0.7491 - val_loss: 1.2261 - val_accuracy: 0.6008\n",
      "Epoch 16/50\n",
      "11844/11844 [==============================] - 1s 97us/step - loss: 1.0712 - accuracy: 0.7575 - val_loss: 1.2256 - val_accuracy: 0.5883\n",
      "Epoch 17/50\n",
      "11844/11844 [==============================] - 1s 104us/step - loss: 1.0656 - accuracy: 0.7582 - val_loss: 1.2030 - val_accuracy: 0.6089\n",
      "Epoch 18/50\n",
      "11844/11844 [==============================] - 1s 100us/step - loss: 1.0421 - accuracy: 0.7810 - val_loss: 1.1916 - val_accuracy: 0.6079\n",
      "Epoch 19/50\n",
      "11844/11844 [==============================] - 1s 98us/step - loss: 1.0400 - accuracy: 0.7810 - val_loss: 1.1853 - val_accuracy: 0.6204\n",
      "Epoch 20/50\n",
      "11844/11844 [==============================] - 1s 95us/step - loss: 1.0455 - accuracy: 0.7672 - val_loss: 1.1822 - val_accuracy: 0.6096\n",
      "Epoch 21/50\n",
      "11844/11844 [==============================] - 1s 98us/step - loss: 1.0375 - accuracy: 0.7762 - val_loss: 1.1910 - val_accuracy: 0.5974\n",
      "Epoch 22/50\n",
      "11844/11844 [==============================] - 1s 97us/step - loss: 1.0290 - accuracy: 0.7795 - val_loss: 1.1860 - val_accuracy: 0.6103\n",
      "Epoch 23/50\n",
      "11844/11844 [==============================] - 1s 98us/step - loss: 1.0212 - accuracy: 0.7875 - val_loss: 1.1716 - val_accuracy: 0.6282\n",
      "Epoch 24/50\n",
      "11844/11844 [==============================] - 1s 98us/step - loss: 1.0285 - accuracy: 0.7779 - val_loss: 1.1857 - val_accuracy: 0.5995\n",
      "Epoch 25/50\n",
      "11844/11844 [==============================] - 1s 100us/step - loss: 1.0123 - accuracy: 0.7931 - val_loss: 1.1706 - val_accuracy: 0.6251\n",
      "Epoch 26/50\n",
      "11844/11844 [==============================] - 1s 99us/step - loss: 1.0012 - accuracy: 0.8047 - val_loss: 1.1646 - val_accuracy: 0.6180\n",
      "Epoch 27/50\n",
      "11844/11844 [==============================] - 1s 97us/step - loss: 1.0101 - accuracy: 0.7928 - val_loss: 1.1722 - val_accuracy: 0.6109\n",
      "Epoch 28/50\n",
      "11844/11844 [==============================] - 1s 96us/step - loss: 1.0110 - accuracy: 0.7886 - val_loss: 1.1785 - val_accuracy: 0.6163\n",
      "Epoch 29/50\n",
      "11844/11844 [==============================] - 1s 96us/step - loss: 0.9995 - accuracy: 0.8061 - val_loss: 1.1690 - val_accuracy: 0.6133\n",
      "Epoch 30/50\n",
      "11844/11844 [==============================] - 1s 96us/step - loss: 1.0024 - accuracy: 0.7975 - val_loss: 1.1623 - val_accuracy: 0.6258\n",
      "Epoch 31/50\n",
      "11844/11844 [==============================] - 1s 97us/step - loss: 1.0014 - accuracy: 0.7976 - val_loss: 1.1780 - val_accuracy: 0.6059\n",
      "Epoch 32/50\n",
      "11844/11844 [==============================] - 1s 98us/step - loss: 0.9877 - accuracy: 0.8128 - val_loss: 1.1589 - val_accuracy: 0.6265\n",
      "Epoch 33/50\n",
      "11844/11844 [==============================] - 1s 99us/step - loss: 0.9880 - accuracy: 0.8102 - val_loss: 1.1430 - val_accuracy: 0.6440\n",
      "Epoch 34/50\n",
      "11844/11844 [==============================] - 1s 96us/step - loss: 0.9983 - accuracy: 0.7985 - val_loss: 1.1520 - val_accuracy: 0.6376\n",
      "Epoch 35/50\n",
      "11844/11844 [==============================] - 1s 98us/step - loss: 0.9956 - accuracy: 0.8007 - val_loss: 1.1782 - val_accuracy: 0.6022\n",
      "Epoch 36/50\n",
      "11844/11844 [==============================] - 1s 96us/step - loss: 0.9895 - accuracy: 0.8068 - val_loss: 1.1569 - val_accuracy: 0.6278\n",
      "Epoch 37/50\n",
      "11844/11844 [==============================] - 1s 98us/step - loss: 0.9846 - accuracy: 0.8125 - val_loss: 1.1915 - val_accuracy: 0.5866\n",
      "Epoch 38/50\n",
      "11844/11844 [==============================] - 1s 99us/step - loss: 1.0078 - accuracy: 0.7851 - val_loss: 1.1579 - val_accuracy: 0.6245\n",
      "Epoch 39/50\n",
      "11844/11844 [==============================] - 1s 99us/step - loss: 0.9733 - accuracy: 0.8245 - val_loss: 1.1286 - val_accuracy: 0.6582\n",
      "Epoch 40/50\n",
      "11844/11844 [==============================] - 1s 100us/step - loss: 0.9699 - accuracy: 0.8263 - val_loss: 1.1396 - val_accuracy: 0.6488\n",
      "Epoch 41/50\n",
      "11844/11844 [==============================] - 1s 98us/step - loss: 0.9638 - accuracy: 0.8305 - val_loss: 1.1276 - val_accuracy: 0.6596\n",
      "Epoch 42/50\n",
      "11844/11844 [==============================] - 1s 97us/step - loss: 0.9647 - accuracy: 0.8294 - val_loss: 1.1497 - val_accuracy: 0.6295\n",
      "Epoch 43/50\n",
      "11844/11844 [==============================] - 1s 98us/step - loss: 0.9646 - accuracy: 0.8291 - val_loss: 1.1476 - val_accuracy: 0.6332\n",
      "Epoch 44/50\n",
      "11844/11844 [==============================] - 1s 98us/step - loss: 0.9760 - accuracy: 0.8175 - val_loss: 1.1621 - val_accuracy: 0.6547\n",
      "Epoch 45/50\n"
     ]
    },
    {
     "name": "stdout",
     "output_type": "stream",
     "text": [
      "11844/11844 [==============================] - 1s 98us/step - loss: 0.9671 - accuracy: 0.8267 - val_loss: 1.1327 - val_accuracy: 0.6518\n",
      "Epoch 46/50\n",
      "11844/11844 [==============================] - 1s 99us/step - loss: 0.9695 - accuracy: 0.8219 - val_loss: 1.1545 - val_accuracy: 0.6675\n",
      "Epoch 47/50\n",
      "11844/11844 [==============================] - 1s 97us/step - loss: 0.9734 - accuracy: 0.8190 - val_loss: 1.1278 - val_accuracy: 0.6733\n",
      "Epoch 48/50\n",
      "11844/11844 [==============================] - 1s 98us/step - loss: 0.9654 - accuracy: 0.8288 - val_loss: 1.1434 - val_accuracy: 0.6592\n",
      "Epoch 49/50\n",
      "11844/11844 [==============================] - 1s 97us/step - loss: 0.9541 - accuracy: 0.8399 - val_loss: 1.1380 - val_accuracy: 0.6501\n",
      "Epoch 50/50\n",
      "11844/11844 [==============================] - 1s 97us/step - loss: 0.9566 - accuracy: 0.8345 - val_loss: 1.1289 - val_accuracy: 0.6686\n"
     ]
    },
    {
     "data": {
      "text/plain": [
       "<keras.callbacks.callbacks.History at 0x7f13640f4198>"
      ]
     },
     "execution_count": 3,
     "metadata": {},
     "output_type": "execute_result"
    }
   ],
   "source": [
    "ConvMixGRU = ConvMixGRU()\n",
    "ConvMixGRU.build_model(config)\n",
    "ConvMixGRU.train(total_X_train, total_y_train, total_X_val, total_y_val, config, workpath)"
   ]
  },
  {
   "cell_type": "code",
   "execution_count": 4,
   "metadata": {},
   "outputs": [
    {
     "name": "stdout",
     "output_type": "stream",
     "text": [
      "3101/3101 [==============================] - 0s 86us/step\n",
      "Raw Acc result: 0.6875656161308289\n",
      "Majority Vote result: 0.7061422121896162\n",
      "Old model exists. Comparing performance.\n",
      "New model is worse than the old one. Will not update the old model\n"
     ]
    },
    {
     "data": {
      "text/plain": [
       "False"
      ]
     },
     "execution_count": 4,
     "metadata": {},
     "output_type": "execute_result"
    }
   ],
   "source": [
    "# Majority Voting\n",
    "preds = [ConvMixGRU.predict(total_X_test[i::443], 0) for i in range(443)]\n",
    "majority_pred = []\n",
    "for pred in preds:\n",
    "    arg_maxes = [np.argmax(p) for p in pred]\n",
    "    votes = np.bincount(arg_maxes)\n",
    "    out = np.ndarray(shape=(4,), buffer=np.zeros(4), dtype=int)\n",
    "    out[votes.argmax()] = 1\n",
    "    majority_pred.append(out)\n",
    "result = [(a == b).all() for a, b in zip(majority_pred, total_y_test[0:443])]\n",
    "raw = ConvMixGRU.evaluate(total_X_test, total_y_test)\n",
    "print(\"Raw Acc result: {}\".format(raw[1]))\n",
    "print(\"Majority Vote result: {}\".format(np.mean(result)))\n",
    "filepath = join(save_path, 'ConvMixGRU.pickle')\n",
    "replace_model_if_better(filepath, np.mean(result), ConvMixGRU, config)"
   ]
  },
  {
   "cell_type": "code",
   "execution_count": 5,
   "metadata": {},
   "outputs": [
    {
     "name": "stdout",
     "output_type": "stream",
     "text": [
      "3101/3101 [==============================] - 0s 104us/step\n",
      "Raw Acc result: 0.6615734609847568\n",
      "Majority Vote result: 0.6827284746855852\n",
      "Old model exists. Comparing performance.\n",
      "New model is worse than the old one. Will not update the old model\n"
     ]
    }
   ],
   "source": [
    "# Load the checkpointed model with highest val acc and perform majority voting\n",
    "model_path = join(workpath, '*.hdf5')\n",
    "list_of_files = glob.glob(model_path)\n",
    "latest_file = max(list_of_files, key=getctime)\n",
    "model_val = load_model(latest_file)\n",
    "preds = [model_val.predict(total_X_test[i::total_X_test.shape[0]], verbose=0) \n",
    "         for i in range(total_X_test.shape[0])]\n",
    "majority_pred = []\n",
    "for pred in preds:\n",
    "    arg_maxes = [np.argmax(p) for p in pred]\n",
    "    votes = np.bincount(arg_maxes)\n",
    "    out = np.ndarray(shape=(4,), buffer=np.zeros(4), dtype=int)\n",
    "    out[votes.argmax()] = 1\n",
    "    majority_pred.append(out)\n",
    "result = [(a == b).all() for a, b in zip(majority_pred, total_y_test[0:total_X_test.shape[0]])]\n",
    "raw = model_val.evaluate(total_X_test, total_y_test)\n",
    "print(\"Raw Acc result: {}\".format(raw[1]))\n",
    "print(\"Majority Vote result: {}\".format(np.mean(result)))\n",
    "filepath = join(save_path, 'best_val', 'ConvMixGRU_val.pickle')\n",
    "replaced = replace_model_if_better(filepath, np.mean(result), model_val, config)\n",
    "rmtree(workpath)"
   ]
  }
 ],
 "metadata": {
  "kernelspec": {
   "display_name": "Python 3",
   "language": "python",
   "name": "python3"
  },
  "language_info": {
   "codemirror_mode": {
    "name": "ipython",
    "version": 3
   },
   "file_extension": ".py",
   "mimetype": "text/x-python",
   "name": "python",
   "nbconvert_exporter": "python",
   "pygments_lexer": "ipython3",
   "version": "3.7.1"
  }
 },
 "nbformat": 4,
 "nbformat_minor": 4
}
