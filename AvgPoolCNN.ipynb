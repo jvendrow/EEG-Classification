{
 "cells": [
  {
   "cell_type": "code",
   "execution_count": 1,
   "metadata": {},
   "outputs": [
    {
     "name": "stderr",
     "output_type": "stream",
     "text": [
      "Using TensorFlow backend.\n"
     ]
    }
   ],
   "source": [
    "import tensorflow as tf\n",
    "from model import *\n",
    "import datetime\n",
    "from utils import *\n",
    "from preprocessing import *\n",
    "import random\n",
    "import glob\n",
    "from os.path import join, getctime, basename\n",
    "from load_data import load_data\n",
    "from save_model import replace_model_if_better\n",
    "from keras.models import load_model\n",
    "from shutil import rmtree"
   ]
  },
  {
   "cell_type": "code",
   "execution_count": 2,
   "metadata": {},
   "outputs": [
    {
     "name": "stdout",
     "output_type": "stream",
     "text": [
      "(8460, 22, 100)\n",
      "(8460, 4)\n",
      "(2215, 22, 100)\n",
      "(2215, 4)\n",
      "(2115, 22, 100)\n",
      "(2115, 4)\n",
      "Loading data pickle...\n",
      "Data pickle loaded.\n",
      "(11844, 22, 100)\n",
      "(11844, 4)\n",
      "(3101, 22, 100)\n",
      "(3101, 4)\n",
      "(2961, 22, 100)\n",
      "(2961, 4)\n"
     ]
    }
   ],
   "source": [
    "data_dict = load_data('original')\n",
    "aug_data = augment_ops(data_dict, trim=True, average=0, subsample=5, noise=True, maxpool=False)\n",
    "total_X_test = aug_data['total_X_test']\n",
    "total_y_test = aug_data['total_y_test']\n",
    "total_X_train = aug_data['total_X_train']\n",
    "total_y_train = aug_data['total_y_train']\n",
    "total_X_val = aug_data['total_X_val']\n",
    "total_y_val = aug_data['total_y_val']\n",
    "save_path = join(get_save_path(), 'AvgPoolCNN')\n",
    "new_path = join(save_path, 'best_val')\n",
    "time = str(datetime.datetime.now()).replace(' ', '_')\n",
    "workpath = join(save_path, time)\n",
    "print(total_X_train.shape)\n",
    "print(total_y_train.shape)\n",
    "print(total_X_test.shape)\n",
    "print(total_y_test.shape)\n",
    "print(total_X_val.shape)\n",
    "print(total_y_val.shape)\n",
    "\n",
    "# Create result folders \n",
    "save_path = join(get_save_path(), 'AvgPoolCNN')\n",
    "new_path = join(save_path, 'best_val')\n",
    "time = str(datetime.datetime.now()).replace(' ', '_')\n",
    "workpath = join(save_path, time)\n",
    "ensure_dir(new_path)\n",
    "ensure_dir(workpath)\n",
    "ensure_dir(save_path)\n",
    "\n",
    "# Load preprocessed data\n",
    "aug_data = load_data_pickle(get_save_path())\n",
    "total_X_test = aug_data['total_X_test']\n",
    "total_y_test = aug_data['total_y_test']\n",
    "total_X_train = aug_data['total_X_train']\n",
    "total_y_train = aug_data['total_y_train']\n",
    "total_X_val = aug_data['total_X_val']\n",
    "total_y_val = aug_data['total_y_val']\n",
    "# total_X_train = np.transpose(total_X_train, (0, 2, 1))\n",
    "# total_X_val = np.transpose(total_X_val, (0, 2, 1))\n",
    "# total_X_test = np.transpose(total_X_test, (0, 2, 1))\n",
    "print(total_X_train.shape)\n",
    "print(total_y_train.shape)\n",
    "print(total_X_test.shape)\n",
    "print(total_y_test.shape)\n",
    "print(total_X_val.shape)\n",
    "print(total_y_val.shape)\n",
    "\n",
    "config = {\n",
    "    # Network\n",
    "    'num_inputs': total_X_train.shape[0],\n",
    "    'input_shape': (total_X_train.shape[1],total_X_train.shape[2],1),\n",
    "    'epochs': 50,\n",
    "    'dropout': 0.5,\n",
    "    'batch_size': 640,\n",
    "    'l2': 0.05,\n",
    "    'LSTM': True,\n",
    "    'lr': 0.001\n",
    "}"
   ]
  },
  {
   "cell_type": "code",
   "execution_count": 3,
   "metadata": {},
   "outputs": [
    {
     "name": "stdout",
     "output_type": "stream",
     "text": [
      "Model: \"model_1\"\n",
      "_________________________________________________________________\n",
      "Layer (type)                 Output Shape              Param #   \n",
      "=================================================================\n",
      "input_1 (InputLayer)         (None, 22, 100)           0         \n",
      "_________________________________________________________________\n",
      "reshape_1 (Reshape)          (None, 22, 100, 1)        0         \n",
      "_________________________________________________________________\n",
      "conv2d_1 (Conv2D)            (None, 22, 91, 48)        528       \n",
      "_________________________________________________________________\n",
      "batch_normalization_1 (Batch (None, 22, 91, 48)        192       \n",
      "_________________________________________________________________\n",
      "dropout_1 (Dropout)          (None, 22, 91, 48)        0         \n",
      "_________________________________________________________________\n",
      "conv2d_2 (Conv2D)            (None, 1, 91, 40)         42280     \n",
      "_________________________________________________________________\n",
      "batch_normalization_2 (Batch (None, 1, 91, 40)         160       \n",
      "_________________________________________________________________\n",
      "average_pooling2d_1 (Average (None, 1, 17, 40)         0         \n",
      "_________________________________________________________________\n",
      "flatten_1 (Flatten)          (None, 680)               0         \n",
      "_________________________________________________________________\n",
      "dense_1 (Dense)              (None, 4)                 2724      \n",
      "_________________________________________________________________\n",
      "activation_1 (Activation)    (None, 4)                 0         \n",
      "=================================================================\n",
      "Total params: 45,884\n",
      "Trainable params: 45,708\n",
      "Non-trainable params: 176\n",
      "_________________________________________________________________\n",
      "Model compiled.\n",
      "Train on 11844 samples, validate on 2961 samples\n",
      "Epoch 1/50\n",
      "11844/11844 [==============================] - 13s 1ms/step - loss: 2.8021 - accuracy: 0.3937 - val_loss: 2.0864 - val_accuracy: 0.4113\n",
      "Epoch 2/50\n",
      "11844/11844 [==============================] - 13s 1ms/step - loss: 1.7110 - accuracy: 0.5217 - val_loss: 1.5534 - val_accuracy: 0.4985\n",
      "Epoch 3/50\n",
      "11844/11844 [==============================] - 13s 1ms/step - loss: 1.3456 - accuracy: 0.5884 - val_loss: 1.4045 - val_accuracy: 0.5201\n",
      "Epoch 4/50\n",
      "11844/11844 [==============================] - 13s 1ms/step - loss: 1.2385 - accuracy: 0.6089 - val_loss: 1.3757 - val_accuracy: 0.4576\n",
      "Epoch 5/50\n",
      "11844/11844 [==============================] - 13s 1ms/step - loss: 1.1891 - accuracy: 0.6318 - val_loss: 1.3620 - val_accuracy: 0.4850\n",
      "Epoch 6/50\n",
      "11844/11844 [==============================] - 13s 1ms/step - loss: 1.1685 - accuracy: 0.6419 - val_loss: 1.3546 - val_accuracy: 0.4566\n",
      "Epoch 7/50\n",
      "11844/11844 [==============================] - 13s 1ms/step - loss: 1.1655 - accuracy: 0.6440 - val_loss: 1.3390 - val_accuracy: 0.4674\n",
      "Epoch 8/50\n",
      "11844/11844 [==============================] - 13s 1ms/step - loss: 1.1519 - accuracy: 0.6524 - val_loss: 1.3276 - val_accuracy: 0.4907\n",
      "Epoch 9/50\n",
      "11844/11844 [==============================] - 13s 1ms/step - loss: 1.1567 - accuracy: 0.6470 - val_loss: 1.3215 - val_accuracy: 0.4661\n",
      "Epoch 10/50\n",
      "11844/11844 [==============================] - 13s 1ms/step - loss: 1.1435 - accuracy: 0.6555 - val_loss: 1.2954 - val_accuracy: 0.5089\n",
      "Epoch 11/50\n",
      "11844/11844 [==============================] - 13s 1ms/step - loss: 1.1393 - accuracy: 0.6593 - val_loss: 1.2714 - val_accuracy: 0.5532\n",
      "Epoch 12/50\n",
      "11844/11844 [==============================] - 13s 1ms/step - loss: 1.1227 - accuracy: 0.6743 - val_loss: 1.2785 - val_accuracy: 0.5228\n",
      "Epoch 13/50\n",
      "11844/11844 [==============================] - 13s 1ms/step - loss: 1.1340 - accuracy: 0.6638 - val_loss: 1.2593 - val_accuracy: 0.5383\n",
      "Epoch 14/50\n",
      "11844/11844 [==============================] - 13s 1ms/step - loss: 1.1304 - accuracy: 0.6719 - val_loss: 1.2429 - val_accuracy: 0.5498\n",
      "Epoch 15/50\n",
      "11844/11844 [==============================] - 13s 1ms/step - loss: 1.1126 - accuracy: 0.6855 - val_loss: 1.2403 - val_accuracy: 0.5758\n",
      "Epoch 16/50\n",
      "11844/11844 [==============================] - 13s 1ms/step - loss: 1.1184 - accuracy: 0.6749 - val_loss: 1.2305 - val_accuracy: 0.5596\n",
      "Epoch 17/50\n",
      "11844/11844 [==============================] - 13s 1ms/step - loss: 1.1146 - accuracy: 0.6814 - val_loss: 1.2484 - val_accuracy: 0.5268\n",
      "Epoch 18/50\n",
      "11844/11844 [==============================] - 13s 1ms/step - loss: 1.1256 - accuracy: 0.6704 - val_loss: 1.2197 - val_accuracy: 0.5826\n",
      "Epoch 19/50\n",
      "11844/11844 [==============================] - 13s 1ms/step - loss: 1.1025 - accuracy: 0.6970 - val_loss: 1.2168 - val_accuracy: 0.5745\n",
      "Epoch 20/50\n",
      "11844/11844 [==============================] - 14s 1ms/step - loss: 1.1053 - accuracy: 0.6920 - val_loss: 1.2562 - val_accuracy: 0.5093\n",
      "Epoch 21/50\n",
      "11844/11844 [==============================] - 13s 1ms/step - loss: 1.1118 - accuracy: 0.6827 - val_loss: 1.2315 - val_accuracy: 0.5559\n",
      "Epoch 22/50\n",
      "11844/11844 [==============================] - 13s 1ms/step - loss: 1.0973 - accuracy: 0.7015 - val_loss: 1.2370 - val_accuracy: 0.5417\n",
      "Epoch 23/50\n",
      "11844/11844 [==============================] - 13s 1ms/step - loss: 1.0906 - accuracy: 0.7087 - val_loss: 1.2201 - val_accuracy: 0.5674\n",
      "Epoch 24/50\n",
      "11844/11844 [==============================] - 13s 1ms/step - loss: 1.0853 - accuracy: 0.7161 - val_loss: 1.2395 - val_accuracy: 0.5319\n",
      "Epoch 25/50\n",
      "11844/11844 [==============================] - 13s 1ms/step - loss: 1.0913 - accuracy: 0.7090 - val_loss: 1.2130 - val_accuracy: 0.5637\n",
      "Epoch 26/50\n",
      "11844/11844 [==============================] - 13s 1ms/step - loss: 1.0824 - accuracy: 0.7200 - val_loss: 1.1965 - val_accuracy: 0.5890\n",
      "Epoch 27/50\n",
      "11844/11844 [==============================] - 13s 1ms/step - loss: 1.0828 - accuracy: 0.7173 - val_loss: 1.2187 - val_accuracy: 0.5610\n",
      "Epoch 28/50\n",
      "11844/11844 [==============================] - 13s 1ms/step - loss: 1.0846 - accuracy: 0.7157 - val_loss: 1.2159 - val_accuracy: 0.5491\n",
      "Epoch 29/50\n",
      "11844/11844 [==============================] - 13s 1ms/step - loss: 1.0817 - accuracy: 0.7181 - val_loss: 1.2175 - val_accuracy: 0.5478\n",
      "Epoch 30/50\n",
      "11844/11844 [==============================] - 13s 1ms/step - loss: 1.0943 - accuracy: 0.7089 - val_loss: 1.2190 - val_accuracy: 0.5562\n",
      "Epoch 31/50\n",
      "11844/11844 [==============================] - 13s 1ms/step - loss: 1.0788 - accuracy: 0.7233 - val_loss: 1.1919 - val_accuracy: 0.5876\n",
      "Epoch 32/50\n",
      "11844/11844 [==============================] - 13s 1ms/step - loss: 1.0744 - accuracy: 0.7282 - val_loss: 1.2100 - val_accuracy: 0.5539\n",
      "Epoch 33/50\n",
      "11844/11844 [==============================] - 13s 1ms/step - loss: 1.0697 - accuracy: 0.7318 - val_loss: 1.2405 - val_accuracy: 0.5407\n",
      "Epoch 34/50\n",
      "11844/11844 [==============================] - 13s 1ms/step - loss: 1.0725 - accuracy: 0.7321 - val_loss: 1.1982 - val_accuracy: 0.5778\n",
      "Epoch 35/50\n",
      "11844/11844 [==============================] - 13s 1ms/step - loss: 1.0653 - accuracy: 0.7387 - val_loss: 1.2119 - val_accuracy: 0.5701\n",
      "Epoch 36/50\n",
      "11844/11844 [==============================] - 13s 1ms/step - loss: 1.0630 - accuracy: 0.7378 - val_loss: 1.1819 - val_accuracy: 0.5991\n",
      "Epoch 37/50\n",
      "11844/11844 [==============================] - 13s 1ms/step - loss: 1.0609 - accuracy: 0.7440 - val_loss: 1.2033 - val_accuracy: 0.5758\n",
      "Epoch 38/50\n",
      "11844/11844 [==============================] - 13s 1ms/step - loss: 1.0468 - accuracy: 0.7587 - val_loss: 1.1895 - val_accuracy: 0.5860\n",
      "Epoch 39/50\n",
      "11844/11844 [==============================] - 13s 1ms/step - loss: 1.0674 - accuracy: 0.7354 - val_loss: 1.1872 - val_accuracy: 0.6049\n",
      "Epoch 40/50\n",
      "11844/11844 [==============================] - 13s 1ms/step - loss: 1.0535 - accuracy: 0.7497 - val_loss: 1.1846 - val_accuracy: 0.5968\n",
      "Epoch 41/50\n",
      "11844/11844 [==============================] - 13s 1ms/step - loss: 1.0556 - accuracy: 0.7459 - val_loss: 1.1882 - val_accuracy: 0.5792\n",
      "Epoch 42/50\n",
      "11844/11844 [==============================] - 13s 1ms/step - loss: 1.0618 - accuracy: 0.7441 - val_loss: 1.1926 - val_accuracy: 0.5981\n",
      "Epoch 43/50\n",
      "11844/11844 [==============================] - 13s 1ms/step - loss: 1.0527 - accuracy: 0.7529 - val_loss: 1.1860 - val_accuracy: 0.5920\n"
     ]
    },
    {
     "name": "stdout",
     "output_type": "stream",
     "text": [
      "Epoch 44/50\n",
      "11844/11844 [==============================] - 13s 1ms/step - loss: 1.0488 - accuracy: 0.7564 - val_loss: 1.1840 - val_accuracy: 0.5974\n",
      "Epoch 45/50\n",
      "11844/11844 [==============================] - 13s 1ms/step - loss: 1.0456 - accuracy: 0.7568 - val_loss: 1.1906 - val_accuracy: 0.5907\n",
      "Epoch 46/50\n",
      "11844/11844 [==============================] - 13s 1ms/step - loss: 1.0483 - accuracy: 0.7522 - val_loss: 1.2003 - val_accuracy: 0.5795\n",
      "Epoch 47/50\n",
      "11844/11844 [==============================] - 13s 1ms/step - loss: 1.0508 - accuracy: 0.7525 - val_loss: 1.1823 - val_accuracy: 0.5914\n",
      "Epoch 48/50\n",
      "11844/11844 [==============================] - 13s 1ms/step - loss: 1.0377 - accuracy: 0.7686 - val_loss: 1.1962 - val_accuracy: 0.5860\n",
      "Epoch 49/50\n",
      "11844/11844 [==============================] - 13s 1ms/step - loss: 1.0466 - accuracy: 0.7588 - val_loss: 1.2140 - val_accuracy: 0.5643\n",
      "Epoch 50/50\n",
      "11844/11844 [==============================] - 13s 1ms/step - loss: 1.0467 - accuracy: 0.7604 - val_loss: 1.1841 - val_accuracy: 0.5927\n"
     ]
    },
    {
     "data": {
      "text/plain": [
       "<keras.callbacks.callbacks.History at 0x7fc0f4780208>"
      ]
     },
     "execution_count": 3,
     "metadata": {},
     "output_type": "execute_result"
    }
   ],
   "source": [
    "AvgPoolCNN = AvgPoolCNN()\n",
    "AvgPoolCNN.build_model(config)\n",
    "AvgPoolCNN.train(total_X_train, total_y_train, total_X_val, total_y_val, config, workpath)"
   ]
  },
  {
   "cell_type": "code",
   "execution_count": 4,
   "metadata": {},
   "outputs": [
    {
     "name": "stdout",
     "output_type": "stream",
     "text": [
      "3101/3101 [==============================] - 1s 232us/step\n",
      "Raw Acc result: 0.6094807982444763\n",
      "Majority Vote result: 0.6094808126410836\n",
      "Old model exists. Comparing performance.\n",
      "New model is worse than the old one. Will not update the old model\n"
     ]
    },
    {
     "data": {
      "text/plain": [
       "False"
      ]
     },
     "execution_count": 4,
     "metadata": {},
     "output_type": "execute_result"
    }
   ],
   "source": [
    "preds = [AvgPoolCNN.predict(total_X_test[i::total_X_test.shape[0]], 0) for i in range(total_X_test.shape[0])]\n",
    "majority_pred = []\n",
    "for pred in preds:\n",
    "    arg_maxes = [np.argmax(p) for p in pred]\n",
    "    votes = np.bincount(arg_maxes)\n",
    "    out = np.ndarray(shape=(4,), buffer=np.zeros(4), dtype=int)\n",
    "    out[votes.argmax()] = 1\n",
    "    majority_pred.append(out)\n",
    "result = [(a == b).all() for a, b in zip(majority_pred, total_y_test[0:total_X_test.shape[0]])]\n",
    "raw = AvgPoolCNN.evaluate(total_X_test, total_y_test)\n",
    "print(\"Raw Acc result: {}\".format(raw[1]))\n",
    "print(\"Majority Vote result: {}\".format(np.mean(result)))\n",
    "filepath = join(save_path, 'AvgPoolCNN.pickle')\n",
    "replace_model_if_better(filepath, np.mean(result), AvgPoolCNN, config)"
   ]
  },
  {
   "cell_type": "code",
   "execution_count": 5,
   "metadata": {},
   "outputs": [
    {
     "name": "stdout",
     "output_type": "stream",
     "text": [
      "/home/alexhw/projects/ee247proj/save/AvgPoolCNN/2020-03-16_14:14:02.945234/AvgPoolCNN_best_val.hdf5\n",
      "<keras.engine.training.Model object at 0x7fc0f40eb6a0>\n",
      "3101/3101 [==============================] - 1s 240us/step\n",
      "Raw Acc result: 0.558851957321167\n",
      "Majority Vote result: 0.5733634311512416\n"
     ]
    }
   ],
   "source": [
    "# Load the checkpointed model with highest val acc and perform majority voting\n",
    "model_path = join(workpath, '*.hdf5')\n",
    "list_of_files = glob.glob(model_path)\n",
    "latest_file = max(list_of_files, key=getctime)\n",
    "print(latest_file)\n",
    "model_val = load_model(latest_file)\n",
    "print(model_val)\n",
    "preds = [model_val.predict(total_X_test[i::443], verbose=0) \n",
    "         for i in range(443)]\n",
    "majority_pred = []\n",
    "for pred in preds:\n",
    "    arg_maxes = [np.argmax(p) for p in pred]\n",
    "    votes = np.bincount(arg_maxes)\n",
    "    out = np.ndarray(shape=(4,), buffer=np.zeros(4), dtype=int)\n",
    "    out[votes.argmax()] = 1\n",
    "    majority_pred.append(out)\n",
    "result = [(a == b).all() for a, b in zip(majority_pred, total_y_test[0:443])]\n",
    "raw = model_val.evaluate(total_X_test, total_y_test)\n",
    "print(\"Raw Acc result: {}\".format(raw[1]))\n",
    "print(\"Majority Vote result: {}\".format(np.mean(result)))\n",
    "# filepath = join(save_path, 'best_val', 'AvgPoolCNN.pickle')\n",
    "# replaced = replace_model_if_better(filepath, np.mean(result), model_val, config)\n",
    "rmtree(workpath)"
   ]
  },
  {
   "cell_type": "code",
   "execution_count": null,
   "metadata": {},
   "outputs": [],
   "source": []
  }
 ],
 "metadata": {
  "kernelspec": {
   "display_name": "Python 3",
   "language": "python",
   "name": "python3"
  },
  "language_info": {
   "codemirror_mode": {
    "name": "ipython",
    "version": 3
   },
   "file_extension": ".py",
   "mimetype": "text/x-python",
   "name": "python",
   "nbconvert_exporter": "python",
   "pygments_lexer": "ipython3",
   "version": "3.7.1"
  }
 },
 "nbformat": 4,
 "nbformat_minor": 4
}
